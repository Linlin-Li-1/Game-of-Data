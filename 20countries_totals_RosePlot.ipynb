{
 "cells": [
  {
   "cell_type": "code",
   "execution_count": 46,
   "metadata": {},
   "outputs": [],
   "source": [
    "import pandas as pd\n",
    "from pyecharts.charts import Pie\n",
    "from pyecharts import options as opts\n",
    "from pyecharts.globals import ThemeType\n",
    "import matplotlib.pyplot as plt"
   ]
  },
  {
   "cell_type": "code",
   "execution_count": 6,
   "metadata": {},
   "outputs": [],
   "source": [
    "data = pd.read_csv('data/20country_totals.csv')"
   ]
  },
  {
   "cell_type": "code",
   "execution_count": 41,
   "metadata": {},
   "outputs": [],
   "source": [
    "latest_data = (\n",
    "    data.groupby('location').agg({'total_cases': 'max', 'total_deaths': 'max'}).\n",
    "    reset_index().\n",
    "    sort_values(by = ['total_cases'], axis=0, ascending=False))"
   ]
  },
  {
   "cell_type": "code",
   "execution_count": 42,
   "metadata": {},
   "outputs": [
    {
     "data": {
      "text/html": [
       "<div>\n",
       "<style scoped>\n",
       "    .dataframe tbody tr th:only-of-type {\n",
       "        vertical-align: middle;\n",
       "    }\n",
       "\n",
       "    .dataframe tbody tr th {\n",
       "        vertical-align: top;\n",
       "    }\n",
       "\n",
       "    .dataframe thead th {\n",
       "        text-align: right;\n",
       "    }\n",
       "</style>\n",
       "<table border=\"1\" class=\"dataframe\">\n",
       "  <thead>\n",
       "    <tr style=\"text-align: right;\">\n",
       "      <th></th>\n",
       "      <th>location</th>\n",
       "      <th>total_cases</th>\n",
       "      <th>total_deaths</th>\n",
       "    </tr>\n",
       "  </thead>\n",
       "  <tbody>\n",
       "    <tr>\n",
       "      <th>19</th>\n",
       "      <td>United States</td>\n",
       "      <td>9486486.0</td>\n",
       "      <td>233729.0</td>\n",
       "    </tr>\n",
       "    <tr>\n",
       "      <th>7</th>\n",
       "      <td>India</td>\n",
       "      <td>8364086.0</td>\n",
       "      <td>124315.0</td>\n",
       "    </tr>\n",
       "    <tr>\n",
       "      <th>2</th>\n",
       "      <td>Brazil</td>\n",
       "      <td>5590025.0</td>\n",
       "      <td>161106.0</td>\n",
       "    </tr>\n",
       "    <tr>\n",
       "      <th>15</th>\n",
       "      <td>Russia</td>\n",
       "      <td>1693454.0</td>\n",
       "      <td>29217.0</td>\n",
       "    </tr>\n",
       "    <tr>\n",
       "      <th>5</th>\n",
       "      <td>France</td>\n",
       "      <td>1543321.0</td>\n",
       "      <td>38674.0</td>\n",
       "    </tr>\n",
       "  </tbody>\n",
       "</table>\n",
       "</div>"
      ],
      "text/plain": [
       "         location  total_cases  total_deaths\n",
       "19  United States    9486486.0      233729.0\n",
       "7           India    8364086.0      124315.0\n",
       "2          Brazil    5590025.0      161106.0\n",
       "15         Russia    1693454.0       29217.0\n",
       "5          France    1543321.0       38674.0"
      ]
     },
     "execution_count": 42,
     "metadata": {},
     "output_type": "execute_result"
    }
   ],
   "source": [
    "latest_data.head()"
   ]
  },
  {
   "cell_type": "code",
   "execution_count": 69,
   "metadata": {},
   "outputs": [],
   "source": [
    "pie = Pie(init_opts=opts.InitOpts(width='1920px', height='1080px',theme=ThemeType.MACARONS))#或者自定义颜色"
   ]
  },
  {
   "cell_type": "code",
   "execution_count": 70,
   "metadata": {},
   "outputs": [
    {
     "data": {
      "text/plain": [
       "<pyecharts.charts.basic_charts.pie.Pie at 0x7f76250e1510>"
      ]
     },
     "execution_count": 70,
     "metadata": {},
     "output_type": "execute_result"
    }
   ],
   "source": [
    "pie.add('', [(a,b) for a,b in zip(latest_data['location'], latest_data['total_cases'])],\n",
    "        radius=[\"10%\", \"125%\"],\n",
    "        center=[\"50%\", \"66%\"],\n",
    "        rosetype=\"area\",\n",
    "        is_clockwise = False)\n",
    "\n",
    "pie.set_global_opts(title_opts=opts.TitleOpts(title='Global COVID-19 Situation',\n",
    "                                              subtitle='TOP 20 countries as of November 5',\n",
    "                                              title_textstyle_opts=opts.TextStyleOpts(font_size=35, color='#0c2a46', font_family=\"Microsoft YaHei\", font_weight=\"bold\"),\n",
    "                                              subtitle_textstyle_opts=opts.TextStyleOpts(font_size=25, color='#0c2a46', font_family=\"Microsoft YaHei\", font_weight=\"bold\"),\n",
    "                                              pos_left='left', pos_top='top'),\n",
    "                    legend_opts=opts.LegendOpts(is_show=True,pos_bottom='15%'),\n",
    "                    toolbox_opts=opts.ToolboxOpts(pos_top='75%'))\n",
    "pie.set_series_opts(label_opts=opts.LabelOpts(is_show=True, position=\"inside\", font_size=10,\n",
    "                                              formatter=\"{b}\", font_style=\"normal\",\n",
    "                                              font_family=\"Microsoft YaHei\"))"
   ]
  },
  {
   "cell_type": "code",
   "execution_count": 71,
   "metadata": {},
   "outputs": [
    {
     "data": {
      "text/plain": [
       "'/home/jovyan/work/The-global-situation-of-covid-19.html'"
      ]
     },
     "execution_count": 71,
     "metadata": {},
     "output_type": "execute_result"
    }
   ],
   "source": [
    "pie.render('The-global-situation-of-covid-19.html')"
   ]
  },
  {
   "cell_type": "code",
   "execution_count": null,
   "metadata": {},
   "outputs": [],
   "source": []
  }
 ],
 "metadata": {
  "kernelspec": {
   "display_name": "Python 3",
   "language": "python",
   "name": "python3"
  },
  "language_info": {
   "codemirror_mode": {
    "name": "ipython",
    "version": 3
   },
   "file_extension": ".py",
   "mimetype": "text/x-python",
   "name": "python",
   "nbconvert_exporter": "python",
   "pygments_lexer": "ipython3",
   "version": "3.7.6"
  }
 },
 "nbformat": 4,
 "nbformat_minor": 4
}
